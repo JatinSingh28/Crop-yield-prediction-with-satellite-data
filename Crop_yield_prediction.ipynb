{
 "cells": [
  {
   "cell_type": "markdown",
   "metadata": {
    "id": "Q3FPqh2Vb7XZ"
   },
   "source": [
    "## Installing libraries"
   ]
  },
  {
   "cell_type": "code",
   "execution_count": 1,
   "metadata": {
    "colab": {
     "base_uri": "https://localhost:8080/",
     "height": 1000
    },
    "id": "WsndRFiLbZUY",
    "outputId": "2830d845-31cf-4454-cec3-dd0dba16697d"
   },
   "outputs": [],
   "source": [
    "# !pip install ipyleaflet\n",
    "# !pip install pystac\n",
    "# !pip install pystac_client\n",
    "# !pip install rich\n",
    "# !pip install odc.stac\n",
    "# !pip install planetary_computer\n",
    "# !pip install geopandas\n",
    "# !pip install xgboost"
   ]
  },
  {
   "cell_type": "markdown",
   "metadata": {
    "id": "zBn-rZtHb8FY"
   },
   "source": [
    "## Importing Libraries and Dataset"
   ]
  },
  {
   "cell_type": "code",
   "execution_count": 2,
   "metadata": {
    "id": "Z2o4_lCLbgEu"
   },
   "outputs": [],
   "source": [
    "# Supress Warnings\n",
    "import warnings\n",
    "warnings.filterwarnings('ignore')\n",
    "\n",
    "# Visualization\n",
    "import ipyleaflet\n",
    "import matplotlib.pyplot as plt\n",
    "from IPython.display import Image\n",
    "import seaborn as sns\n",
    "\n",
    "# Data Science\n",
    "import numpy as np\n",
    "import pandas as pd\n",
    "import statsmodels.api as sm\n",
    "\n",
    "# Feature Engineering\n",
    "from sklearn.model_selection import train_test_split\n",
    "\n",
    "# Machine Learning\n",
    "from sklearn.ensemble import ExtraTreesRegressor\n",
    "from sklearn.metrics import r2_score\n",
    "from xgboost import XGBRegressor\n",
    "\n",
    "\n",
    "# Planetary Computer Tools\n",
    "import pystac\n",
    "import pystac_client\n",
    "# import odc\n",
    "from pystac_client import Client\n",
    "from pystac.extensions.eo import EOExtension as eo\n",
    "from odc.stac import stac_load\n",
    "import planetary_computer as pc\n",
    "\n",
    "# Please pass your API key here\n",
    "pc.settings.set_subscription_key('70f3348ff9af45168b72f35a0a9b2d8b')\n",
    "\n",
    "# Others\n",
    "import requests\n",
    "import rich.table\n",
    "from itertools import cycle\n",
    "from tqdm import tqdm\n",
    "tqdm.pandas()\n",
    "from tqdm.notebook import tqdm_notebook\n",
    "tqdm_notebook.pandas()\n",
    "import xarray as xr\n",
    "import geopandas\n",
    "import ast"
   ]
  },
  {
   "cell_type": "code",
   "execution_count": 3,
   "metadata": {
    "colab": {
     "base_uri": "https://localhost:8080/",
     "height": 0
    },
    "id": "HBM9h_2DbiKT",
    "outputId": "5069b6f4-8bca-4f81-9137-6e2063cfc2c5"
   },
   "outputs": [
    {
     "data": {
      "text/html": [
       "<div>\n",
       "<style scoped>\n",
       "    .dataframe tbody tr th:only-of-type {\n",
       "        vertical-align: middle;\n",
       "    }\n",
       "\n",
       "    .dataframe tbody tr th {\n",
       "        vertical-align: top;\n",
       "    }\n",
       "\n",
       "    .dataframe thead th {\n",
       "        text-align: right;\n",
       "    }\n",
       "</style>\n",
       "<table border=\"1\" class=\"dataframe\">\n",
       "  <thead>\n",
       "    <tr style=\"text-align: right;\">\n",
       "      <th></th>\n",
       "      <th>District</th>\n",
       "      <th>Latitude</th>\n",
       "      <th>Longitude</th>\n",
       "      <th>Season(SA = Summer Autumn, WS = Winter Spring)</th>\n",
       "      <th>Rice Crop Intensity(D=Double, T=Triple)</th>\n",
       "      <th>Date of Harvest</th>\n",
       "      <th>Field size (ha)</th>\n",
       "      <th>Rice Yield (kg/ha)</th>\n",
       "    </tr>\n",
       "  </thead>\n",
       "  <tbody>\n",
       "    <tr>\n",
       "      <th>0</th>\n",
       "      <td>Chau_Phu</td>\n",
       "      <td>10.510542</td>\n",
       "      <td>105.248554</td>\n",
       "      <td>SA</td>\n",
       "      <td>T</td>\n",
       "      <td>15-07-2022</td>\n",
       "      <td>3.40</td>\n",
       "      <td>5500</td>\n",
       "    </tr>\n",
       "    <tr>\n",
       "      <th>1</th>\n",
       "      <td>Chau_Phu</td>\n",
       "      <td>10.509150</td>\n",
       "      <td>105.265098</td>\n",
       "      <td>SA</td>\n",
       "      <td>T</td>\n",
       "      <td>15-07-2022</td>\n",
       "      <td>2.43</td>\n",
       "      <td>6000</td>\n",
       "    </tr>\n",
       "    <tr>\n",
       "      <th>2</th>\n",
       "      <td>Chau_Phu</td>\n",
       "      <td>10.467721</td>\n",
       "      <td>105.192464</td>\n",
       "      <td>SA</td>\n",
       "      <td>D</td>\n",
       "      <td>15-07-2022</td>\n",
       "      <td>1.95</td>\n",
       "      <td>6400</td>\n",
       "    </tr>\n",
       "    <tr>\n",
       "      <th>3</th>\n",
       "      <td>Chau_Phu</td>\n",
       "      <td>10.494453</td>\n",
       "      <td>105.241281</td>\n",
       "      <td>SA</td>\n",
       "      <td>T</td>\n",
       "      <td>15-07-2022</td>\n",
       "      <td>4.30</td>\n",
       "      <td>6000</td>\n",
       "    </tr>\n",
       "    <tr>\n",
       "      <th>4</th>\n",
       "      <td>Chau_Phu</td>\n",
       "      <td>10.535058</td>\n",
       "      <td>105.252744</td>\n",
       "      <td>SA</td>\n",
       "      <td>D</td>\n",
       "      <td>14-07-2022</td>\n",
       "      <td>3.30</td>\n",
       "      <td>6400</td>\n",
       "    </tr>\n",
       "  </tbody>\n",
       "</table>\n",
       "</div>"
      ],
      "text/plain": [
       "   District   Latitude   Longitude  \\\n",
       "0  Chau_Phu  10.510542  105.248554   \n",
       "1  Chau_Phu  10.509150  105.265098   \n",
       "2  Chau_Phu  10.467721  105.192464   \n",
       "3  Chau_Phu  10.494453  105.241281   \n",
       "4  Chau_Phu  10.535058  105.252744   \n",
       "\n",
       "  Season(SA = Summer Autumn, WS = Winter Spring)  \\\n",
       "0                                             SA   \n",
       "1                                             SA   \n",
       "2                                             SA   \n",
       "3                                             SA   \n",
       "4                                             SA   \n",
       "\n",
       "  Rice Crop Intensity(D=Double, T=Triple) Date of Harvest  Field size (ha)  \\\n",
       "0                                       T      15-07-2022             3.40   \n",
       "1                                       T      15-07-2022             2.43   \n",
       "2                                       D      15-07-2022             1.95   \n",
       "3                                       T      15-07-2022             4.30   \n",
       "4                                       D      14-07-2022             3.30   \n",
       "\n",
       "   Rice Yield (kg/ha)  \n",
       "0                5500  \n",
       "1                6000  \n",
       "2                6400  \n",
       "3                6000  \n",
       "4                6400  "
      ]
     },
     "execution_count": 3,
     "metadata": {},
     "output_type": "execute_result"
    }
   ],
   "source": [
    "crop_yield_data = pd.read_csv(\"Crop_Yield_Data_challenge_2.csv\")\n",
    "crop_yield_data.head()"
   ]
  },
  {
   "cell_type": "markdown",
   "metadata": {
    "id": "jQPDlwFcbJww"
   },
   "source": [
    "## Fetching Data from API"
   ]
  },
  {
   "cell_type": "code",
   "execution_count": 4,
   "metadata": {
    "id": "doZGegM-bkEy"
   },
   "outputs": [],
   "source": [
    "catalog = pystac_client.Client.open(\"https://planetarycomputer.microsoft.com/api/stac/v1\")"
   ]
  },
  {
   "cell_type": "code",
   "execution_count": 5,
   "metadata": {
    "id": "9ahDtIkXbslW"
   },
   "outputs": [],
   "source": [
    "def get_sentinel_data(longitude, latitude, season,assests):\n",
    "    \n",
    "    '''\n",
    "    Returns a list of VV,VH, VV/VH values for a given latitude and longitude over a given time period (based on the season)\n",
    "    Attributes:\n",
    "    longitude - Longitude\n",
    "    latitude - Latitude\n",
    "    season - The season for which band values need to be extracted.\n",
    "    assets - A list of bands to be extracted\n",
    "    \n",
    "    '''\n",
    "    \n",
    "    bands_of_interest = assests\n",
    "    if season == 'SA':\n",
    "        time_slice = \"2022-05-01/2022-08-31\"\n",
    "    if season == 'WS':\n",
    "        time_slice = \"2022-01-01/2022-04-30\"\n",
    "        \n",
    "    red_list=[]\n",
    "    green_list=[]\n",
    "    nir_list=[]\n",
    "    rededge_list = []\n",
    "    swir_list = []\n",
    "\n",
    "    bbox_of_interest = [longitude , latitude, longitude, latitude]\n",
    "    time_of_interest = time_slice\n",
    "\n",
    "    search = catalog.search(collections=[\"sentinel-2-l2a\"], bbox=bbox_of_interest, datetime=time_of_interest)\n",
    "    \n",
    "    items = list(search.get_all_items())\n",
    "    item = items[0]\n",
    "    items.reverse()\n",
    "\n",
    "    data = stac_load([items[1]],bands=bands_of_interest, patch_url=pc.sign, bbox=bbox_of_interest,crs=\"EPSG:4326\",\n",
    "    resolution=0.00009009).isel(time=0)\n",
    "\n",
    "    for item in items:\n",
    "        data = stac_load([item], bands=bands_of_interest, patch_url=pc.sign, bbox=bbox_of_interest,crs=\"EPSG:4326\",\n",
    "        resolution=0.00009009).isel(time=0)\n",
    "        data = data.where(~data.isnull(), 0)\n",
    "        red = data[\"red\"].astype(\"float64\")\n",
    "        green = data[\"green\"].astype(\"float64\")\n",
    "        nir = data[\"nir\"].astype(\"float64\")\n",
    "        red_edge = data[\"rededge\"].astype(\"float64\")\n",
    "        swir = data[\"swir16\"].astype(\"float64\")\n",
    "\n",
    "        red_list.append(np.median(red))\n",
    "        green_list.append(np.median(green))\n",
    "        nir_list.append(np.median(nir))\n",
    "        rededge_list.append(np.median(red_edge))\n",
    "        swir_list.append(np.median(swir))\n",
    "              \n",
    "    return red_list, green_list, nir_list, rededge_list, swir_list"
   ]
  },
  {
   "cell_type": "code",
   "execution_count": 6,
   "metadata": {
    "id": "7JDs3ONKbxeP"
   },
   "outputs": [],
   "source": [
    "def get_sentinel_data_vv(longitude, latitude, season,assests):\n",
    "    \n",
    "    '''\n",
    "    Returns a list of VV,VH, VV/VH values for a given latitude and longitude over a given time period (based on the season)\n",
    "    Attributes:\n",
    "    longitude - Longitude\n",
    "    latitude - Latitude\n",
    "    season - The season for which band values need to be extracted.\n",
    "    assets - A list of bands to be extracted\n",
    "    \n",
    "    '''\n",
    "    \n",
    "    bands_of_interest = assests\n",
    "    if season == 'SA':\n",
    "        time_slice = \"2022-05-01/2022-08-31\"\n",
    "    if season == 'WS':\n",
    "        time_slice = \"2022-01-01/2022-04-30\"\n",
    "        \n",
    "    vv_list = []\n",
    "    vh_list = []\n",
    "    vv_by_vh_list = []\n",
    "    \n",
    "    bbox_of_interest = [longitude , latitude, longitude, latitude]\n",
    "    time_of_interest = time_slice\n",
    "    \n",
    "    catalog = pystac_client.Client.open(\"https://planetarycomputer.microsoft.com/api/stac/v1\")\n",
    "    search = catalog.search(collections=[\"sentinel-1-rtc\"], bbox=bbox_of_interest, datetime=time_of_interest)\n",
    "    items = list(search.get_all_items())\n",
    "    item = items[0]\n",
    "    items.reverse()\n",
    "\n",
    "    for item in items:\n",
    "        data = stac_load([item], bands=bands_of_interest, patch_url=pc.sign, bbox=bbox_of_interest,crs=\"EPSG:4326\",\n",
    "        resolution=0.00009009).isel(time=0)\n",
    "        if(data['vh'].values[0][0]!=-32768.0 and data['vv'].values[0][0]!=-32768.0):\n",
    "            data = data.where(~data.isnull(), 0)\n",
    "            vh = data[\"vh\"].astype(\"float64\")\n",
    "            vv = data[\"vv\"].astype(\"float64\")\n",
    "            vv_list.append(np.median(vv))\n",
    "            vh_list.append(np.median(vh))\n",
    "            vv_by_vh_list.append(np.median(vv)/np.median(vh))\n",
    "              \n",
    "    return vv_list, vh_list, vv_by_vh_list"
   ]
  },
  {
   "cell_type": "code",
   "execution_count": 7,
   "metadata": {
    "id": "7HGsuro2bznn"
   },
   "outputs": [],
   "source": [
    "def create_band_df(df):\n",
    "  ## Get Sentinel-1-RTC Data\n",
    "#   assests = ['red','green','nir','rededge','swir16']\n",
    "#   train_band_values = df.progress_apply(lambda x: get_sentinel_data(x['Longitude'], x['Latitude'],x['Season(SA = Summer Autumn, WS = Winter Spring)'],assests), axis=1)\n",
    "#   red = [x[0] for x in train_band_values]\n",
    "#   green = [x[1] for x in train_band_values]\n",
    "#   nir = [x[2] for x in train_band_values]\n",
    "#   rededge = [x[3] for x in train_band_values]\n",
    "#   swir = [x[4] for x in train_band_values]\n",
    "#   band_df = pd.DataFrame(list(zip(red,green,nir,rededge,swir)),columns = [\"red\",\"green\",\"nir\",\"rededge\",\"swir\"])\n",
    "#   band_df['red'] = red\n",
    "#   band_df['green'] = green\n",
    "#   band_df['nir'] = nir\n",
    "#   band_df['rededge'] = rededge\n",
    "#   band_df['swir'] = swir\n",
    "#   band_df.to_csv(\"band_df.csv\") #to csv\n",
    "  band_df = pd.read_csv('band_df.csv')\n",
    "  band_df = band_df.iloc[:,1:]\n",
    "  # print(band_df.head())\n",
    "\n",
    "#   assests = ['vh','vv']\n",
    "#   train_band_values = df.progress_apply(lambda x: get_sentinel_data_vv(x['Longitude'], x['Latitude'],x['Season(SA = Summer Autumn, WS = Winter Spring)'],assests), axis=1)\n",
    "#   vh = [x[0] for x in train_band_values]\n",
    "#   vv = [x[1] for x in train_band_values]\n",
    "#   vv_by_vh = [x[2] for x in train_band_values]\n",
    "#   vh_vv_data = pd.DataFrame(list(zip(vh,vv,vv_by_vh)),columns = [\"vv_list\",\"vh_list\",\"vv_by_vh\"])\n",
    "#   vh_vv_data['vv_list'] = vv\n",
    "#   vh_vv_data['vh_list'] = vh\n",
    "#   vh_vv_data['vv_by_vh'] = vv_by_vh\n",
    "#   vh_vv_data.to_csv(\"vh_vv.csv\") #to csv\n",
    "  vh_vv_data = pd.read_csv('vh_vv.csv')\n",
    "  vh_vv_data = vh_vv_data.iloc[:,1:]\n",
    "\n",
    "  crop_data = pd.concat([band_df, vh_vv_data],axis=1)\n",
    "  crop_data.columns = ['vv','vh','vv/vh','red','green','nir','rededge','swir']\n",
    "\n",
    "  return crop_data\n"
   ]
  },
  {
   "cell_type": "markdown",
   "metadata": {
    "id": "xeOAo5UTbSJ6"
   },
   "source": [
    "## Feature Engineering"
   ]
  },
  {
   "cell_type": "code",
   "execution_count": 8,
   "metadata": {
    "id": "F5_MD-tm7PK-"
   },
   "outputs": [],
   "source": [
    "def ordinal_distribution(data, dx=3, dy=1, taux=1, tauy=1, return_missing=False, tie_precision=None):\n",
    "    '''\n",
    "    Returns\n",
    "    -------\n",
    "     : tuple\n",
    "       Tuple containing two arrays, one with the ordinal patterns occurring in data \n",
    "       and another with their corresponding probabilities.\n",
    "       \n",
    "    Attributes\n",
    "    ---------\n",
    "    data : array \n",
    "           Array object in the format :math:`[x_{1}, x_{2}, x_{3}, \\\\ldots ,x_{n}]`\n",
    "           or  :math:`[[x_{11}, x_{12}, x_{13}, \\\\ldots, x_{1m}],\n",
    "           \\\\ldots, [x_{n1}, x_{n2}, x_{n3}, \\\\ldots, x_{nm}]]`.\n",
    "    dx : int\n",
    "         Embedding dimension (horizontal axis) (default: 3).\n",
    "    dy : int\n",
    "         Embedding dimension (vertical axis); it must be 1 for time series \n",
    "         (default: 1).\n",
    "    taux : int\n",
    "           Embedding delay (horizontal axis) (default: 1).\n",
    "    tauy : int\n",
    "           Embedding delay (vertical axis) (default: 1).\n",
    "    return_missing: boolean\n",
    "                    If `True`, it returns ordinal patterns not appearing in the \n",
    "                    symbolic sequence obtained from **data** are shown. If `False`,\n",
    "                    these missing patterns (permutations) are omitted \n",
    "                    (default: `False`).\n",
    "    tie_precision : int\n",
    "                    If not `None`, **data** is rounded with `tie_precision`\n",
    "                    number of decimals (default: `None`).\n",
    "   \n",
    "    '''\n",
    "    def setdiff(a, b):\n",
    "        '''\n",
    "        Returns\n",
    "        -------\n",
    "        : array\n",
    "            An array containing the elements in `a` that are not contained in `b`.\n",
    "            \n",
    "        Parameters\n",
    "        ----------    \n",
    "        a : tuples, lists or arrays\n",
    "            Array in the format :math:`[[x_{21}, x_{22}, x_{23}, \\\\ldots, x_{2m}], \n",
    "            \\\\ldots, [x_{n1}, x_{n2}, x_{n3}, ..., x_{nm}]]`.\n",
    "        b : tuples, lists or arrays\n",
    "            Array in the format :math:`[[x_{21}, x_{22}, x_{23}, \\\\ldots, x_{2m}], \n",
    "            \\\\ldots, [x_{n1}, x_{n2}, x_{n3}, ..., x_{nm}]]`.\n",
    "        '''\n",
    "\n",
    "        a = np.asarray(a).astype('int64')\n",
    "        b = np.asarray(b).astype('int64')\n",
    "\n",
    "        _, ncols = a.shape\n",
    "\n",
    "        dtype={'names':['f{}'.format(i) for i in range(ncols)],\n",
    "            'formats':ncols * [a.dtype]}\n",
    "\n",
    "        C = np.setdiff1d(a.view(dtype), b.view(dtype))\n",
    "        C = C.view(a.dtype).reshape(-1, ncols)\n",
    "\n",
    "        return(C)\n",
    "\n",
    "    try:\n",
    "        ny, nx = np.shape(data)\n",
    "        data   = np.array(data)\n",
    "    except:\n",
    "        nx     = np.shape(data)[0]\n",
    "        ny     = 1\n",
    "        data   = np.array([data])\n",
    "\n",
    "    if tie_precision is not None:\n",
    "        data = np.round(data, tie_precision)\n",
    "\n",
    "    partitions = np.concatenate(\n",
    "        [\n",
    "            [np.concatenate(data[j:j+dy*tauy:tauy,i:i+dx*taux:taux]) for i in range(nx-(dx-1)*taux)] \n",
    "            for j in range(ny-(dy-1)*tauy)\n",
    "        ]\n",
    "    )\n",
    "\n",
    "    symbols = np.apply_along_axis(np.argsort, 1, partitions)\n",
    "    symbols, symbols_count = np.unique(symbols, return_counts=True, axis=0)\n",
    "\n",
    "    probabilities = symbols_count/len(partitions)\n",
    "\n",
    "    if return_missing==False:\n",
    "        return symbols, probabilities\n",
    "    \n",
    "    else:\n",
    "        all_symbols   = list(map(list,list(itertools.permutations(np.arange(dx*dy)))))\n",
    "        miss_symbols  = setdiff(all_symbols, symbols)\n",
    "        symbols       = np.concatenate((symbols, miss_symbols))\n",
    "        probabilities = np.concatenate((probabilities, np.zeros(miss_symbols.__len__())))\n",
    "        \n",
    "        return symbols, probabilities"
   ]
  },
  {
   "cell_type": "code",
   "execution_count": 9,
   "metadata": {
    "id": "TDA0rqDJ7KYv"
   },
   "outputs": [],
   "source": [
    "def permutation_entropy(data, dx=3, dy=1, taux=1, tauy=1, base=2, normalized=True, probs=False, tie_precision=None):\n",
    "    '''\n",
    "    Returns Permutation Entropy\n",
    "    Attributes:\n",
    "    data : array\n",
    "           Array object in the format :math:`[x_{1}, x_{2}, x_{3}, \\\\ldots ,x_{n}]`\n",
    "           or  :math:`[[x_{11}, x_{12}, x_{13}, \\\\ldots, x_{1m}],\n",
    "           \\\\ldots, [x_{n1}, x_{n2}, x_{n3}, \\\\ldots, x_{nm}]]`\n",
    "           or an ordinal probability distribution (such as the ones returned by :func:`ordpy.ordinal_distribution`).\n",
    "    dx :   int\n",
    "           Embedding dimension (horizontal axis) (default: 3).\n",
    "    dy :   int\n",
    "           Embedding dimension (vertical axis); it must be 1 for time series (default: 1).\n",
    "    taux : int\n",
    "           Embedding delay (horizontal axis) (default: 1).\n",
    "    tauy : int\n",
    "           Embedding delay (vertical axis) (default: 1).\n",
    "    base : str, int\n",
    "           Logarithm base in Shannon's entropy. Either 'e' or 2 (default: 2).\n",
    "    normalized: boolean\n",
    "                If `True`, permutation entropy is normalized by its maximum value \n",
    "                (default: `True`). If `False`, it is not.\n",
    "    probs : boolean\n",
    "            If `True`, assumes **data** is an ordinal probability distribution. If \n",
    "            `False`, **data** is expected to be a one- or two-dimensional \n",
    "            array (default: `False`). \n",
    "    tie_precision : int\n",
    "                    If not `None`, **data** is rounded with `tie_precision`\n",
    "                    number of decimals (default: `None`).\n",
    "    '''\n",
    "    if not probs:\n",
    "        _, probabilities = ordinal_distribution(data, dx, dy, taux, tauy, return_missing=False, tie_precision=tie_precision)\n",
    "    else:\n",
    "        probabilities = np.asarray(data)\n",
    "        probabilities = probabilities[probabilities>0]\n",
    "\n",
    "    if normalized==True and base in [2, '2']:        \n",
    "        smax = np.log2(float(np.math.factorial(dx*dy)))\n",
    "        s    = -np.sum(probabilities*np.log2(probabilities))\n",
    "        return s/smax\n",
    "         \n",
    "    elif normalized==True and base=='e':        \n",
    "        smax = np.log(float(np.math.factorial(dx*dy)))\n",
    "        s    = -np.sum(probabilities*np.log(probabilities))\n",
    "        return s/smax\n",
    "    \n",
    "    elif normalized==False and base in [2, '2']:\n",
    "        return -np.sum(probabilities*np.log2(probabilities))\n",
    "    else:\n",
    "        return -np.sum(probabilities*np.log(probabilities))"
   ]
  },
  {
   "cell_type": "code",
   "execution_count": 10,
   "metadata": {
    "id": "xX-ZFDYSc8PT"
   },
   "outputs": [],
   "source": [
    "def generate_stastical_features(df):\n",
    "  for col in df.columns:\n",
    "    min_list = []\n",
    "    max_list = []\n",
    "    range_list = []\n",
    "    mean_list = []\n",
    "    correlation_list = []\n",
    "    # premutation_entropy_list = []\n",
    "    for i in range(len(df[col])):\n",
    "      # print(len(col))\n",
    "      cell = df.at[i,col]\n",
    "      if type(cell)==str:\n",
    "        cell = ast.literal_eval(cell)\n",
    "      min_list.append(min(cell))\n",
    "      max_list.append(max(cell))\n",
    "      range_list.append(max_list[-1]-min_list[-1])\n",
    "      mean_list.append(np.mean(cell))\n",
    "      # correlation_list.append(sm.tsa.acf(cell)[1])\n",
    "      # premutation_entropy_list.append(permutation_entropy(cell, dx=6,base=2, normalized=True)) \n",
    "  \n",
    "    df[col+'_min'] = min_list\n",
    "    df[col+'_max'] = max_list\n",
    "    df[col+'_range'] = range_list\n",
    "    df[col+'_mean'] = mean_list\n",
    "    # df[col+'_correlation'] = correlation_list\n",
    "    # df[col+'_permutation_entropy'] = premutation_entropy_list\n",
    "    df.drop(col,axis=1,inplace=True)\n",
    "    \n",
    "\n",
    "  return df"
   ]
  },
  {
   "cell_type": "code",
   "execution_count": 11,
   "metadata": {
    "id": "5wVpROghdjqM"
   },
   "outputs": [],
   "source": [
    "def generate_indices(df):\n",
    "  # df['NDVI_min'] = (df['nir_min'] - df['red_min'])/(df['nir_min']+df['red_min'])\n",
    "  # df['NDVI_max'] = (df['nir_max'] - df['red_max'])/(df['nir_max']+df['red_max'])\n",
    "  df['NDVI_mean'] = (df['nir_mean'] - df['red_mean'])/(df['nir_mean']+df['red_mean'])\n",
    "\n",
    "  # df['GNDVI_min'] = (df['nir_min']-df['green_min']) / (df['NDVI_min']+df['green_min'])\n",
    "  # df['GNDVI_max'] = (df['nir_max']-df['green_max']) / (df['NDVI_max']+df['green_max'])\n",
    "  df['GNDVI_mean'] = (df['nir_mean']-df['green_mean']) / (df['NDVI_mean']+df['green_mean'])\n",
    "\n",
    "  # df['NDRE_min'] = (df['nir_min'] - df['rededge_min']) / (df['nir_min'] + df['rededge_min'])\n",
    "  # df['NDRE_max'] = (df['nir_max'] - df['rededge_max']) / (df['nir_max'] + df['rededge_max'])\n",
    "  df['NDRE_mean'] = (df['nir_mean'] - df['rededge_mean']) / (df['nir_mean'] + df['rededge_mean'])\n",
    "\n",
    "  # df['NDWI_min'] = (df['nir_min'] - df['swir_min']) / (df['nir_min'] + df['swir_min'])\n",
    "  # df['NDWI_max'] = (df['nir_max'] - df['swir_max']) / (df['nir_max'] + df['swir_max'])\n",
    "  df['NDWI_mean'] = (df['nir_mean'] - df['swir_mean']) / (df['nir_mean'] + df['swir_mean'])\n",
    "\n",
    "  # Calculate RVI\n",
    "  dop = (df['vv_mean'] / (df['vv_mean'] + df['vh_mean']))\n",
    "  m = 1 - dop\n",
    "  rvi = (np.sqrt(dop))*((4*df['vh_mean'])/(df['vv_mean'] + df['vh_mean']))\n",
    "  df['RVI_mean'] = rvi\n",
    "\n",
    "  # dop = (df['vv_min'] / (df['vv_min'] + df['vh_min']))\n",
    "  # m = 1 - dop\n",
    "  # rvi = (np.sqrt(dop))*((4*df['vh_min'])/(df['vv_min'] + df['vh_min']))\n",
    "  # df['RVI_min'] = rvi\n",
    "\n",
    "  # dop = (df['vv_max'] / (df['vv_max'] + df['vh_max']))\n",
    "  # m = 1 - dop\n",
    "  # rvi = (np.sqrt(dop))*((4*df['vh_max'])/(df['vv_max'] + df['vh_max']))\n",
    "  # df['RVI_max'] = rvi\n",
    "\n",
    "  return df"
   ]
  },
  {
   "cell_type": "markdown",
   "metadata": {
    "id": "P9MybGombgeh"
   },
   "source": [
    "## Preparing data for ml model"
   ]
  },
  {
   "cell_type": "code",
   "execution_count": 12,
   "metadata": {
    "id": "HMq8RZjWe5Q3"
   },
   "outputs": [],
   "source": [
    "def update_crop_yield_train(df):\n",
    "  df.columns = ['District','Lat','Long','Season','Intensity','Date','Field Size','Rice Yield']\n",
    "  df['Intensity'].replace({'T':1,'D':0},inplace=True)\n",
    "  df['Season'].replace({'SA':1,'WS':0},inplace=True)\n",
    "  dummies = pd.get_dummies(df['District'])\n",
    "  df = df.drop(['Lat','Long','District','Date'],axis=1)\n",
    "  df = pd.concat([dummies,df],axis=1)\n",
    "  return df"
   ]
  },
  {
   "cell_type": "code",
   "execution_count": 13,
   "metadata": {
    "id": "PgAtfNLVfabw"
   },
   "outputs": [],
   "source": [
    "def update_crop_yield_test(df):\n",
    "  df.columns = ['District','Lat','Long','Season','Intensity','Date','Field Size']\n",
    "  df['Intensity'].replace({'T':1,'D':0},inplace=True)\n",
    "  df['Season'].replace({'SA':1,'WS':0},inplace=True)\n",
    "  dummies = pd.get_dummies(df['District'])\n",
    "  df = df.drop(['Lat','Long','District','Date'],axis=1)\n",
    "  df = pd.concat([dummies,df],axis=1)\n",
    "  return df"
   ]
  },
  {
   "cell_type": "markdown",
   "metadata": {
    "id": "dm5544NFa20v"
   },
   "source": [
    "## Pipeline"
   ]
  },
  {
   "cell_type": "code",
   "execution_count": 14,
   "metadata": {
    "id": "5wQ5LnQJbCgv"
   },
   "outputs": [],
   "source": [
    "def pipeline(df):\n",
    "  df1=df\n",
    "  df = create_band_df(df)\n",
    "  df = generate_stastical_features(df)\n",
    "  df = generate_indices(df)\n",
    "  if(df1.shape[1]==8):\n",
    "    df1 = update_crop_yield_train(df1)\n",
    "  elif(df1.shape[1]==7):\n",
    "    df1 = update_crop_yield_test(df1)\n",
    "  df = pd.concat([df1,df],axis=1)\n",
    "\n",
    "  return df"
   ]
  },
  {
   "cell_type": "code",
   "execution_count": 15,
   "metadata": {
    "colab": {
     "background_save": true,
     "base_uri": "https://localhost:8080/",
     "height": 49,
     "referenced_widgets": [
      "08d97b8c7518471199b079d76f9b62a3",
      "4e7787f5f7d54a2ea9a4a6ae19bd5769",
      "959897a7b4d6439695f0d03690584b4f",
      "256c505fb48d4df5b3da3016304d69a6",
      "363c826a0366488cacc9a7451ae62281",
      "381c28bdf663464a8e87462ad442a74c",
      "b69a2f78a881403199f3628573f95684",
      "94b14cbd33714bf591d8f88454240beb",
      "1b3cf05b245842d7bf7ee21004234e19",
      "f25d52cba6f74c9f921718e1e85307fb",
      "568efba18e1f4b84837e3bf8f2a36dc8"
     ]
    },
    "id": "rPiOOytCzxIC",
    "outputId": "9bb77cee-779b-46ff-f64a-28a59ee76d35"
   },
   "outputs": [],
   "source": [
    "df = pipeline(crop_yield_data)"
   ]
  },
  {
   "cell_type": "code",
   "execution_count": 16,
   "metadata": {
    "id": "Q8VKQniv0Er2"
   },
   "outputs": [
    {
     "data": {
      "text/html": [
       "<div>\n",
       "<style scoped>\n",
       "    .dataframe tbody tr th:only-of-type {\n",
       "        vertical-align: middle;\n",
       "    }\n",
       "\n",
       "    .dataframe tbody tr th {\n",
       "        vertical-align: top;\n",
       "    }\n",
       "\n",
       "    .dataframe thead th {\n",
       "        text-align: right;\n",
       "    }\n",
       "</style>\n",
       "<table border=\"1\" class=\"dataframe\">\n",
       "  <thead>\n",
       "    <tr style=\"text-align: right;\">\n",
       "      <th></th>\n",
       "      <th>Chau_Phu</th>\n",
       "      <th>Chau_Thanh</th>\n",
       "      <th>Thoai_Son</th>\n",
       "      <th>Season</th>\n",
       "      <th>Intensity</th>\n",
       "      <th>Field Size</th>\n",
       "      <th>Rice Yield</th>\n",
       "      <th>vv_min</th>\n",
       "      <th>vv_max</th>\n",
       "      <th>vv_range</th>\n",
       "      <th>...</th>\n",
       "      <th>rededge_mean</th>\n",
       "      <th>swir_min</th>\n",
       "      <th>swir_max</th>\n",
       "      <th>swir_range</th>\n",
       "      <th>swir_mean</th>\n",
       "      <th>NDVI_mean</th>\n",
       "      <th>GNDVI_mean</th>\n",
       "      <th>NDRE_mean</th>\n",
       "      <th>NDWI_mean</th>\n",
       "      <th>RVI_mean</th>\n",
       "    </tr>\n",
       "  </thead>\n",
       "  <tbody>\n",
       "    <tr>\n",
       "      <th>0</th>\n",
       "      <td>1</td>\n",
       "      <td>0</td>\n",
       "      <td>0</td>\n",
       "      <td>1</td>\n",
       "      <td>1</td>\n",
       "      <td>3.40</td>\n",
       "      <td>5500</td>\n",
       "      <td>1273.0</td>\n",
       "      <td>6392.0</td>\n",
       "      <td>5119.0</td>\n",
       "      <td>...</td>\n",
       "      <td>0.112290</td>\n",
       "      <td>0.555078</td>\n",
       "      <td>29.989193</td>\n",
       "      <td>29.434115</td>\n",
       "      <td>6.771513</td>\n",
       "      <td>-0.999986</td>\n",
       "      <td>-1.000313</td>\n",
       "      <td>-0.660134</td>\n",
       "      <td>-0.993233</td>\n",
       "      <td>1.442495</td>\n",
       "    </tr>\n",
       "    <tr>\n",
       "      <th>1</th>\n",
       "      <td>1</td>\n",
       "      <td>0</td>\n",
       "      <td>0</td>\n",
       "      <td>1</td>\n",
       "      <td>1</td>\n",
       "      <td>2.43</td>\n",
       "      <td>6000</td>\n",
       "      <td>1814.0</td>\n",
       "      <td>14408.0</td>\n",
       "      <td>12594.0</td>\n",
       "      <td>...</td>\n",
       "      <td>0.166436</td>\n",
       "      <td>1.580250</td>\n",
       "      <td>7.805157</td>\n",
       "      <td>6.224906</td>\n",
       "      <td>4.583483</td>\n",
       "      <td>-0.999979</td>\n",
       "      <td>-1.000292</td>\n",
       "      <td>-0.626402</td>\n",
       "      <td>-0.983456</td>\n",
       "      <td>1.425787</td>\n",
       "    </tr>\n",
       "    <tr>\n",
       "      <th>2</th>\n",
       "      <td>1</td>\n",
       "      <td>0</td>\n",
       "      <td>0</td>\n",
       "      <td>1</td>\n",
       "      <td>0</td>\n",
       "      <td>1.95</td>\n",
       "      <td>6400</td>\n",
       "      <td>1142.0</td>\n",
       "      <td>13616.0</td>\n",
       "      <td>12474.0</td>\n",
       "      <td>...</td>\n",
       "      <td>0.180863</td>\n",
       "      <td>0.691084</td>\n",
       "      <td>36.552106</td>\n",
       "      <td>35.861022</td>\n",
       "      <td>8.106786</td>\n",
       "      <td>-0.999983</td>\n",
       "      <td>-1.000310</td>\n",
       "      <td>-0.689930</td>\n",
       "      <td>-0.991846</td>\n",
       "      <td>1.429156</td>\n",
       "    </tr>\n",
       "    <tr>\n",
       "      <th>3</th>\n",
       "      <td>1</td>\n",
       "      <td>0</td>\n",
       "      <td>0</td>\n",
       "      <td>1</td>\n",
       "      <td>1</td>\n",
       "      <td>4.30</td>\n",
       "      <td>6000</td>\n",
       "      <td>1256.0</td>\n",
       "      <td>9112.0</td>\n",
       "      <td>7856.0</td>\n",
       "      <td>...</td>\n",
       "      <td>0.116675</td>\n",
       "      <td>1.664036</td>\n",
       "      <td>28.349087</td>\n",
       "      <td>26.685050</td>\n",
       "      <td>7.416280</td>\n",
       "      <td>-0.999988</td>\n",
       "      <td>-1.000258</td>\n",
       "      <td>-0.643147</td>\n",
       "      <td>-0.993190</td>\n",
       "      <td>1.440828</td>\n",
       "    </tr>\n",
       "    <tr>\n",
       "      <th>4</th>\n",
       "      <td>1</td>\n",
       "      <td>0</td>\n",
       "      <td>0</td>\n",
       "      <td>1</td>\n",
       "      <td>0</td>\n",
       "      <td>3.30</td>\n",
       "      <td>6400</td>\n",
       "      <td>1196.0</td>\n",
       "      <td>9488.0</td>\n",
       "      <td>8292.0</td>\n",
       "      <td>...</td>\n",
       "      <td>0.169892</td>\n",
       "      <td>1.338847</td>\n",
       "      <td>29.232963</td>\n",
       "      <td>27.894115</td>\n",
       "      <td>6.989110</td>\n",
       "      <td>-0.999983</td>\n",
       "      <td>-1.000272</td>\n",
       "      <td>-0.672745</td>\n",
       "      <td>-0.990534</td>\n",
       "      <td>1.437955</td>\n",
       "    </tr>\n",
       "  </tbody>\n",
       "</table>\n",
       "<p>5 rows × 44 columns</p>\n",
       "</div>"
      ],
      "text/plain": [
       "   Chau_Phu  Chau_Thanh  Thoai_Son  Season  Intensity  Field Size  Rice Yield  \\\n",
       "0         1           0          0       1          1        3.40        5500   \n",
       "1         1           0          0       1          1        2.43        6000   \n",
       "2         1           0          0       1          0        1.95        6400   \n",
       "3         1           0          0       1          1        4.30        6000   \n",
       "4         1           0          0       1          0        3.30        6400   \n",
       "\n",
       "   vv_min   vv_max  vv_range  ...  rededge_mean  swir_min   swir_max  \\\n",
       "0  1273.0   6392.0    5119.0  ...      0.112290  0.555078  29.989193   \n",
       "1  1814.0  14408.0   12594.0  ...      0.166436  1.580250   7.805157   \n",
       "2  1142.0  13616.0   12474.0  ...      0.180863  0.691084  36.552106   \n",
       "3  1256.0   9112.0    7856.0  ...      0.116675  1.664036  28.349087   \n",
       "4  1196.0   9488.0    8292.0  ...      0.169892  1.338847  29.232963   \n",
       "\n",
       "   swir_range  swir_mean  NDVI_mean  GNDVI_mean  NDRE_mean  NDWI_mean  \\\n",
       "0   29.434115   6.771513  -0.999986   -1.000313  -0.660134  -0.993233   \n",
       "1    6.224906   4.583483  -0.999979   -1.000292  -0.626402  -0.983456   \n",
       "2   35.861022   8.106786  -0.999983   -1.000310  -0.689930  -0.991846   \n",
       "3   26.685050   7.416280  -0.999988   -1.000258  -0.643147  -0.993190   \n",
       "4   27.894115   6.989110  -0.999983   -1.000272  -0.672745  -0.990534   \n",
       "\n",
       "   RVI_mean  \n",
       "0  1.442495  \n",
       "1  1.425787  \n",
       "2  1.429156  \n",
       "3  1.440828  \n",
       "4  1.437955  \n",
       "\n",
       "[5 rows x 44 columns]"
      ]
     },
     "execution_count": 16,
     "metadata": {},
     "output_type": "execute_result"
    }
   ],
   "source": [
    "df.head()"
   ]
  },
  {
   "cell_type": "markdown",
   "metadata": {
    "id": "nlzEr3Nla5vy"
   },
   "source": [
    "## Train Test Split"
   ]
  },
  {
   "cell_type": "code",
   "execution_count": 17,
   "metadata": {
    "id": "SSdVPhgznqgx"
   },
   "outputs": [],
   "source": [
    "x = df.drop('Rice Yield',axis=1).values\n",
    "y = df['Rice Yield'].values\n",
    "x_train, x_test, y_train, y_test = train_test_split(x, y, test_size=0.2,random_state=21)"
   ]
  },
  {
   "cell_type": "markdown",
   "metadata": {
    "id": "JJhYerrOBY5K"
   },
   "source": [
    "## Model Training\n"
   ]
  },
  {
   "cell_type": "code",
   "execution_count": 18,
   "metadata": {
    "id": "TE8QXcQbqpAO"
   },
   "outputs": [],
   "source": [
    "regressor = ExtraTreesRegressor(bootstrap=False, ccp_alpha=0.0, criterion=\"mse\",\n",
    "                    max_depth=8, max_features='auto', max_leaf_nodes=100,\n",
    "                    max_samples=None, min_impurity_decrease=0.0, min_samples_leaf=1,\n",
    "                    min_samples_split=2, min_weight_fraction_leaf=0.0,\n",
    "                    n_estimators=100, n_jobs=-1, oob_score=False,\n",
    "                    random_state=123, verbose=0, warm_start=True)\n"
   ]
  },
  {
   "cell_type": "code",
   "execution_count": 19,
   "metadata": {
    "id": "Rw_TiX44q2DF"
   },
   "outputs": [
    {
     "data": {
      "text/plain": [
       "ExtraTreesRegressor(max_depth=8, max_leaf_nodes=100, n_jobs=-1,\n",
       "                    random_state=123, warm_start=True)"
      ]
     },
     "execution_count": 19,
     "metadata": {},
     "output_type": "execute_result"
    }
   ],
   "source": [
    "regressor.fit(x_train, y_train)"
   ]
  },
  {
   "cell_type": "code",
   "execution_count": 20,
   "metadata": {
    "id": "c-Z8OQPHCfWz"
   },
   "outputs": [],
   "source": [
    "from numpy import absolute\n",
    "from sklearn.model_selection import cross_val_score\n",
    "from sklearn.model_selection import RepeatedKFold"
   ]
  },
  {
   "cell_type": "code",
   "execution_count": 21,
   "metadata": {
    "id": "MNvfLufPB54i"
   },
   "outputs": [
    {
     "name": "stdout",
     "output_type": "stream",
     "text": [
      "Mean MAE: 439.519 (71.606)\n"
     ]
    }
   ],
   "source": [
    "xgb = XGBRegressor(n_estimators=1000, max_depth=7, eta=0.1, subsample=0.7, colsample_bytree=0.8)\n",
    "cv = RepeatedKFold(n_splits=10, n_repeats=3, random_state=1)\n",
    "scores = cross_val_score(xgb, x_test, y_test, scoring='neg_mean_absolute_error', cv=cv, n_jobs=-1)\n",
    "scores = absolute(scores)\n",
    "print('Mean MAE: %.3f (%.3f)' % (scores.mean(), scores.std()) )"
   ]
  },
  {
   "cell_type": "code",
   "execution_count": 22,
   "metadata": {},
   "outputs": [
    {
     "data": {
      "text/plain": [
       "XGBRegressor(base_score=None, booster=None, callbacks=None,\n",
       "             colsample_bylevel=None, colsample_bynode=None,\n",
       "             colsample_bytree=0.8, early_stopping_rounds=None,\n",
       "             enable_categorical=False, eta=0.1, eval_metric=None,\n",
       "             feature_types=None, gamma=None, gpu_id=None, grow_policy=None,\n",
       "             importance_type=None, interaction_constraints=None,\n",
       "             learning_rate=None, max_bin=None, max_cat_threshold=None,\n",
       "             max_cat_to_onehot=None, max_delta_step=None, max_depth=7,\n",
       "             max_leaves=None, min_child_weight=None, missing=nan,\n",
       "             monotone_constraints=None, n_estimators=1000, n_jobs=None,\n",
       "             num_parallel_tree=None, predictor=None, ...)"
      ]
     },
     "execution_count": 22,
     "metadata": {},
     "output_type": "execute_result"
    }
   ],
   "source": [
    "xgb.fit(x_train,y_train)"
   ]
  },
  {
   "cell_type": "markdown",
   "metadata": {
    "id": "edpFsrsDBv-m"
   },
   "source": [
    "## Model Evaluation"
   ]
  },
  {
   "cell_type": "code",
   "execution_count": 23,
   "metadata": {},
   "outputs": [],
   "source": [
    "from sklearn.metrics import mean_squared_error\n",
    "from sklearn.metrics import mean_absolute_error"
   ]
  },
  {
   "cell_type": "code",
   "execution_count": 24,
   "metadata": {
    "id": "aLfylCmrA8YE"
   },
   "outputs": [],
   "source": [
    "def model_evaluation(model):\n",
    "    insample_predictions = model.predict(x_train)\n",
    "    print(\"Insample R2 Score: {0:.2f}\".format(r2_score(y_train,insample_predictions)))\n",
    "    outsample_predictions = model.predict(x_test)\n",
    "    print(\"Outsample R2 Score: {0:.2f}\".format(r2_score(y_test,outsample_predictions)))\n",
    "    print(\"Accuracy: {0:.2f}\".format(r2_score(y_test,outsample_predictions)*100))\n",
    "    print(\"MSE: {0:.2f}\".format(mean_squared_error(y_test,outsample_predictions)))\n",
    "    print(\"RMSE: {0:.2f}\".format(mean_squared_error(y_test,outsample_predictions,squared=False)))\n",
    "    print(\"MAE: {0:.2f}\".format(mean_absolute_error(y_test,outsample_predictions)))"
   ]
  },
  {
   "cell_type": "code",
   "execution_count": 25,
   "metadata": {
    "id": "eHn8vu6NBL9Q"
   },
   "outputs": [
    {
     "name": "stdout",
     "output_type": "stream",
     "text": [
      "Insample R2 Score: 0.94\n",
      "Outsample R2 Score: 0.65\n",
      "Accuracy: 64.65\n",
      "MSE: 237207.70\n",
      "RMSE: 487.04\n",
      "MAE: 401.97\n"
     ]
    }
   ],
   "source": [
    "model_evaluation(regressor)"
   ]
  },
  {
   "cell_type": "code",
   "execution_count": 26,
   "metadata": {
    "id": "uhSZUagZDFpq"
   },
   "outputs": [
    {
     "name": "stdout",
     "output_type": "stream",
     "text": [
      "Insample R2 Score: 1.00\n",
      "Outsample R2 Score: 0.55\n",
      "Accuracy: 54.60\n",
      "MSE: 304660.68\n",
      "RMSE: 551.96\n",
      "MAE: 439.08\n"
     ]
    }
   ],
   "source": [
    "model_evaluation(xgb)"
   ]
  },
  {
   "cell_type": "code",
   "execution_count": 27,
   "metadata": {
    "id": "1VOAogII5OTK"
   },
   "outputs": [],
   "source": [
    "#65%"
   ]
  },
  {
   "cell_type": "code",
   "execution_count": 28,
   "metadata": {
    "id": "eFfs_dgr6lcU"
   },
   "outputs": [],
   "source": [
    "# Accuracy in benchmark notebook=> 25%\n",
    "# Current accuracy=> 65%"
   ]
  }
 ],
 "metadata": {
  "accelerator": "GPU",
  "colab": {
   "collapsed_sections": [
    "Q3FPqh2Vb7XZ",
    "zBn-rZtHb8FY",
    "jQPDlwFcbJww",
    "xeOAo5UTbSJ6",
    "P9MybGombgeh",
    "dm5544NFa20v",
    "nlzEr3Nla5vy",
    "JJhYerrOBY5K",
    "edpFsrsDBv-m"
   ],
   "provenance": []
  },
  "gpuClass": "standard",
  "kernelspec": {
   "display_name": "Python 3 (ipykernel)",
   "language": "python",
   "name": "python3"
  },
  "language_info": {
   "codemirror_mode": {
    "name": "ipython",
    "version": 3
   },
   "file_extension": ".py",
   "mimetype": "text/x-python",
   "name": "python",
   "nbconvert_exporter": "python",
   "pygments_lexer": "ipython3",
   "version": "3.9.7"
  },
  "widgets": {
   "application/vnd.jupyter.widget-state+json": {
    "08d97b8c7518471199b079d76f9b62a3": {
     "model_module": "@jupyter-widgets/controls",
     "model_module_version": "1.5.0",
     "model_name": "HBoxModel",
     "state": {
      "_dom_classes": [],
      "_model_module": "@jupyter-widgets/controls",
      "_model_module_version": "1.5.0",
      "_model_name": "HBoxModel",
      "_view_count": null,
      "_view_module": "@jupyter-widgets/controls",
      "_view_module_version": "1.5.0",
      "_view_name": "HBoxView",
      "box_style": "",
      "children": [
       "IPY_MODEL_4e7787f5f7d54a2ea9a4a6ae19bd5769",
       "IPY_MODEL_959897a7b4d6439695f0d03690584b4f",
       "IPY_MODEL_256c505fb48d4df5b3da3016304d69a6"
      ],
      "layout": "IPY_MODEL_363c826a0366488cacc9a7451ae62281"
     }
    },
    "1b3cf05b245842d7bf7ee21004234e19": {
     "model_module": "@jupyter-widgets/controls",
     "model_module_version": "1.5.0",
     "model_name": "ProgressStyleModel",
     "state": {
      "_model_module": "@jupyter-widgets/controls",
      "_model_module_version": "1.5.0",
      "_model_name": "ProgressStyleModel",
      "_view_count": null,
      "_view_module": "@jupyter-widgets/base",
      "_view_module_version": "1.2.0",
      "_view_name": "StyleView",
      "bar_color": null,
      "description_width": ""
     }
    },
    "256c505fb48d4df5b3da3016304d69a6": {
     "model_module": "@jupyter-widgets/controls",
     "model_module_version": "1.5.0",
     "model_name": "HTMLModel",
     "state": {
      "_dom_classes": [],
      "_model_module": "@jupyter-widgets/controls",
      "_model_module_version": "1.5.0",
      "_model_name": "HTMLModel",
      "_view_count": null,
      "_view_module": "@jupyter-widgets/controls",
      "_view_module_version": "1.5.0",
      "_view_name": "HTMLView",
      "description": "",
      "description_tooltip": null,
      "layout": "IPY_MODEL_f25d52cba6f74c9f921718e1e85307fb",
      "placeholder": "​",
      "style": "IPY_MODEL_568efba18e1f4b84837e3bf8f2a36dc8",
      "value": " 32/557 [20:52&lt;5:38:54, 38.73s/it]"
     }
    },
    "363c826a0366488cacc9a7451ae62281": {
     "model_module": "@jupyter-widgets/base",
     "model_module_version": "1.2.0",
     "model_name": "LayoutModel",
     "state": {
      "_model_module": "@jupyter-widgets/base",
      "_model_module_version": "1.2.0",
      "_model_name": "LayoutModel",
      "_view_count": null,
      "_view_module": "@jupyter-widgets/base",
      "_view_module_version": "1.2.0",
      "_view_name": "LayoutView",
      "align_content": null,
      "align_items": null,
      "align_self": null,
      "border": null,
      "bottom": null,
      "display": null,
      "flex": null,
      "flex_flow": null,
      "grid_area": null,
      "grid_auto_columns": null,
      "grid_auto_flow": null,
      "grid_auto_rows": null,
      "grid_column": null,
      "grid_gap": null,
      "grid_row": null,
      "grid_template_areas": null,
      "grid_template_columns": null,
      "grid_template_rows": null,
      "height": null,
      "justify_content": null,
      "justify_items": null,
      "left": null,
      "margin": null,
      "max_height": null,
      "max_width": null,
      "min_height": null,
      "min_width": null,
      "object_fit": null,
      "object_position": null,
      "order": null,
      "overflow": null,
      "overflow_x": null,
      "overflow_y": null,
      "padding": null,
      "right": null,
      "top": null,
      "visibility": null,
      "width": null
     }
    },
    "381c28bdf663464a8e87462ad442a74c": {
     "model_module": "@jupyter-widgets/base",
     "model_module_version": "1.2.0",
     "model_name": "LayoutModel",
     "state": {
      "_model_module": "@jupyter-widgets/base",
      "_model_module_version": "1.2.0",
      "_model_name": "LayoutModel",
      "_view_count": null,
      "_view_module": "@jupyter-widgets/base",
      "_view_module_version": "1.2.0",
      "_view_name": "LayoutView",
      "align_content": null,
      "align_items": null,
      "align_self": null,
      "border": null,
      "bottom": null,
      "display": null,
      "flex": null,
      "flex_flow": null,
      "grid_area": null,
      "grid_auto_columns": null,
      "grid_auto_flow": null,
      "grid_auto_rows": null,
      "grid_column": null,
      "grid_gap": null,
      "grid_row": null,
      "grid_template_areas": null,
      "grid_template_columns": null,
      "grid_template_rows": null,
      "height": null,
      "justify_content": null,
      "justify_items": null,
      "left": null,
      "margin": null,
      "max_height": null,
      "max_width": null,
      "min_height": null,
      "min_width": null,
      "object_fit": null,
      "object_position": null,
      "order": null,
      "overflow": null,
      "overflow_x": null,
      "overflow_y": null,
      "padding": null,
      "right": null,
      "top": null,
      "visibility": null,
      "width": null
     }
    },
    "4e7787f5f7d54a2ea9a4a6ae19bd5769": {
     "model_module": "@jupyter-widgets/controls",
     "model_module_version": "1.5.0",
     "model_name": "HTMLModel",
     "state": {
      "_dom_classes": [],
      "_model_module": "@jupyter-widgets/controls",
      "_model_module_version": "1.5.0",
      "_model_name": "HTMLModel",
      "_view_count": null,
      "_view_module": "@jupyter-widgets/controls",
      "_view_module_version": "1.5.0",
      "_view_name": "HTMLView",
      "description": "",
      "description_tooltip": null,
      "layout": "IPY_MODEL_381c28bdf663464a8e87462ad442a74c",
      "placeholder": "​",
      "style": "IPY_MODEL_b69a2f78a881403199f3628573f95684",
      "value": "  6%"
     }
    },
    "568efba18e1f4b84837e3bf8f2a36dc8": {
     "model_module": "@jupyter-widgets/controls",
     "model_module_version": "1.5.0",
     "model_name": "DescriptionStyleModel",
     "state": {
      "_model_module": "@jupyter-widgets/controls",
      "_model_module_version": "1.5.0",
      "_model_name": "DescriptionStyleModel",
      "_view_count": null,
      "_view_module": "@jupyter-widgets/base",
      "_view_module_version": "1.2.0",
      "_view_name": "StyleView",
      "description_width": ""
     }
    },
    "94b14cbd33714bf591d8f88454240beb": {
     "model_module": "@jupyter-widgets/base",
     "model_module_version": "1.2.0",
     "model_name": "LayoutModel",
     "state": {
      "_model_module": "@jupyter-widgets/base",
      "_model_module_version": "1.2.0",
      "_model_name": "LayoutModel",
      "_view_count": null,
      "_view_module": "@jupyter-widgets/base",
      "_view_module_version": "1.2.0",
      "_view_name": "LayoutView",
      "align_content": null,
      "align_items": null,
      "align_self": null,
      "border": null,
      "bottom": null,
      "display": null,
      "flex": null,
      "flex_flow": null,
      "grid_area": null,
      "grid_auto_columns": null,
      "grid_auto_flow": null,
      "grid_auto_rows": null,
      "grid_column": null,
      "grid_gap": null,
      "grid_row": null,
      "grid_template_areas": null,
      "grid_template_columns": null,
      "grid_template_rows": null,
      "height": null,
      "justify_content": null,
      "justify_items": null,
      "left": null,
      "margin": null,
      "max_height": null,
      "max_width": null,
      "min_height": null,
      "min_width": null,
      "object_fit": null,
      "object_position": null,
      "order": null,
      "overflow": null,
      "overflow_x": null,
      "overflow_y": null,
      "padding": null,
      "right": null,
      "top": null,
      "visibility": null,
      "width": null
     }
    },
    "959897a7b4d6439695f0d03690584b4f": {
     "model_module": "@jupyter-widgets/controls",
     "model_module_version": "1.5.0",
     "model_name": "FloatProgressModel",
     "state": {
      "_dom_classes": [],
      "_model_module": "@jupyter-widgets/controls",
      "_model_module_version": "1.5.0",
      "_model_name": "FloatProgressModel",
      "_view_count": null,
      "_view_module": "@jupyter-widgets/controls",
      "_view_module_version": "1.5.0",
      "_view_name": "ProgressView",
      "bar_style": "",
      "description": "",
      "description_tooltip": null,
      "layout": "IPY_MODEL_94b14cbd33714bf591d8f88454240beb",
      "max": 557,
      "min": 0,
      "orientation": "horizontal",
      "style": "IPY_MODEL_1b3cf05b245842d7bf7ee21004234e19",
      "value": 32
     }
    },
    "b69a2f78a881403199f3628573f95684": {
     "model_module": "@jupyter-widgets/controls",
     "model_module_version": "1.5.0",
     "model_name": "DescriptionStyleModel",
     "state": {
      "_model_module": "@jupyter-widgets/controls",
      "_model_module_version": "1.5.0",
      "_model_name": "DescriptionStyleModel",
      "_view_count": null,
      "_view_module": "@jupyter-widgets/base",
      "_view_module_version": "1.2.0",
      "_view_name": "StyleView",
      "description_width": ""
     }
    },
    "f25d52cba6f74c9f921718e1e85307fb": {
     "model_module": "@jupyter-widgets/base",
     "model_module_version": "1.2.0",
     "model_name": "LayoutModel",
     "state": {
      "_model_module": "@jupyter-widgets/base",
      "_model_module_version": "1.2.0",
      "_model_name": "LayoutModel",
      "_view_count": null,
      "_view_module": "@jupyter-widgets/base",
      "_view_module_version": "1.2.0",
      "_view_name": "LayoutView",
      "align_content": null,
      "align_items": null,
      "align_self": null,
      "border": null,
      "bottom": null,
      "display": null,
      "flex": null,
      "flex_flow": null,
      "grid_area": null,
      "grid_auto_columns": null,
      "grid_auto_flow": null,
      "grid_auto_rows": null,
      "grid_column": null,
      "grid_gap": null,
      "grid_row": null,
      "grid_template_areas": null,
      "grid_template_columns": null,
      "grid_template_rows": null,
      "height": null,
      "justify_content": null,
      "justify_items": null,
      "left": null,
      "margin": null,
      "max_height": null,
      "max_width": null,
      "min_height": null,
      "min_width": null,
      "object_fit": null,
      "object_position": null,
      "order": null,
      "overflow": null,
      "overflow_x": null,
      "overflow_y": null,
      "padding": null,
      "right": null,
      "top": null,
      "visibility": null,
      "width": null
     }
    }
   }
  }
 },
 "nbformat": 4,
 "nbformat_minor": 1
}
